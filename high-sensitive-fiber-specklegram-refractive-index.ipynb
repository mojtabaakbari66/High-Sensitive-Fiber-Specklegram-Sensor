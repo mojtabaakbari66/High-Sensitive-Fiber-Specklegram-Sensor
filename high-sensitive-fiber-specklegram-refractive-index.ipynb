{
 "cells": [
  {
   "cell_type": "markdown",
   "id": "e7d6160c-14c5-406b-bacd-7f1bdc06d139",
   "metadata": {},
   "source": [
    "# Optical Fiber Specklegram Sensors (FSS)"
   ]
  },
  {
   "cell_type": "markdown",
   "id": "cea05634-fa70-4c2f-9542-b08e1218b0f6",
   "metadata": {},
   "source": [
    "##### Optical Fiber Specklegram Sensors (FSS) offer an appealing solution for environmental sensing due to their straightforward sensing arrangement and processable digital output, which encodes rich information. These sensors utilize the interference pattern changes observed in the cross-sectional area of a multimode optical fiber (MMF) to measure various chemical and physical quantities in the surrounding environment. In our lab, we present an FSS structure capable of accurately measuring environmental parameters. To train and test our model, we recorded an image dataset of fiber output speckles with a microfiber immersed in seven distinct solutions. These solutions were carefully selected to possess varying refractive indices while being closely related to one another. By leveraging this dataset, we trained a deep neural network to analyze the speckle patterns and extract meaningful information. The obtained results demonstrate a remarkable accuracy of 99.26% in the classification of the seven solutions based on their refractive indices."
   ]
  },
  {
   "cell_type": "markdown",
   "id": "b46ae779-ef8e-47da-b7be-5ada8e38d649",
   "metadata": {},
   "source": [
    "## importing necessary libraries"
   ]
  },
  {
   "cell_type": "code",
   "execution_count": 20,
   "id": "a9061cf3-2d3a-420c-9f32-d3e3aaace077",
   "metadata": {},
   "outputs": [],
   "source": [
    "import os\n",
    "import torch\n",
    "from torchvision import datasets, transforms\n",
    "from torchvision.datasets import ImageFolder\n",
    "from torch.utils.data import DataLoader, random_split\n",
    "import torch.nn as nn\n",
    "import torch.optim as optim\n",
    "from torchvision.models import resnet50"
   ]
  },
  {
   "cell_type": "markdown",
   "id": "6cc88daf-72ce-4117-85a4-1e966c6e89a8",
   "metadata": {},
   "source": [
    "## Define the path to your dataset"
   ]
  },
  {
   "cell_type": "code",
   "execution_count": 22,
   "id": "bf800d15-6d29-4fe8-a05f-f7c381fbc508",
   "metadata": {},
   "outputs": [],
   "source": [
    "data_dir = \"D:/Deep Learning/Datasets/cropped 4,7,2023/\"# Define transforms\n",
    "transform = transforms.Compose([transforms.RandomRotation(degrees=(-10,10)),\n",
    "    transforms.ColorJitter(brightness=(0.9,1.1), contrast=(0.9,1.1), saturation=(0.9,1.1), hue=(-0.02,0.02)),                                \n",
    "    transforms.Resize((227, 227)),\n",
    "    transforms.ToTensor(),\n",
    "    ])"
   ]
  },
  {
   "cell_type": "markdown",
   "id": "c7f62fff-12e4-49fe-a7c2-f8482f14a15d",
   "metadata": {},
   "source": [
    "## Create a dataset using the ImageFolder class"
   ]
  },
  {
   "cell_type": "code",
   "execution_count": 5,
   "id": "d1f26041-1f13-4d8e-a19a-ba5344b5a016",
   "metadata": {},
   "outputs": [],
   "source": [
    "dataset = ImageFolder(data_dir , transform=transform)"
   ]
  },
  {
   "cell_type": "markdown",
   "id": "2a9e41d9-c482-4384-88a7-7b8cc66fd577",
   "metadata": {},
   "source": [
    "## Define the size of each subset"
   ]
  },
  {
   "cell_type": "code",
   "execution_count": 6,
   "id": "471b76f1-212f-48f0-bcee-bf929b069cc2",
   "metadata": {},
   "outputs": [],
   "source": [
    "train_size = int(0.7 * len(dataset))\n",
    "val_size = int(0.1 * len(dataset))\n",
    "test_size = len(dataset) - train_size - val_size"
   ]
  },
  {
   "cell_type": "markdown",
   "id": "a957bd24-8ff0-4208-ab8a-a6ed131997e1",
   "metadata": {},
   "source": [
    "## Split dataset"
   ]
  },
  {
   "cell_type": "code",
   "execution_count": 7,
   "id": "615323f3-fdcd-49b9-ab3e-1893d9e7c3e3",
   "metadata": {},
   "outputs": [],
   "source": [
    "num_train = int(len(dataset) * 0.7)\n",
    "num_val = int(len(dataset) * 0.1)\n",
    "num_test = len(dataset) - num_train - num_val\n",
    "train_dataset, val_dataset, test_dataset = torch.utils.data.random_split(\n",
    "    dataset, [num_train, num_val, num_test])"
   ]
  },
  {
   "cell_type": "markdown",
   "id": "a0c7e3fa-9a78-4d2c-b9fb-a9e08be0e3cd",
   "metadata": {},
   "source": [
    "## creating dataloader for each subsets"
   ]
  },
  {
   "cell_type": "code",
   "execution_count": 8,
   "id": "d9069267-e8fb-4a3a-bf2d-d6f97a51c3ac",
   "metadata": {},
   "outputs": [],
   "source": [
    "batch_size = 32\n",
    "train_loader = torch.utils.data.DataLoader(train_dataset, batch_size=batch_size, shuffle=True)\n",
    "val_loader = torch.utils.data.DataLoader(val_dataset, batch_size=batch_size)\n",
    "test_loader = torch.utils.data.DataLoader(test_dataset, batch_size=batch_size)"
   ]
  },
  {
   "cell_type": "markdown",
   "id": "d0cfa2bd-2700-4d22-92bd-e8ed558e52a2",
   "metadata": {},
   "source": [
    "## Create an instance of the ResNet50 model"
   ]
  },
  {
   "cell_type": "code",
   "execution_count": 10,
   "id": "b55d044a-aec3-45ea-99b4-8f0b7450a136",
   "metadata": {
    "scrolled": true
   },
   "outputs": [
    {
     "name": "stderr",
     "output_type": "stream",
     "text": [
      "C:\\Users\\Mojtaba\\Anaconda3\\lib\\site-packages\\torchvision\\models\\_utils.py:208: UserWarning: The parameter 'pretrained' is deprecated since 0.13 and may be removed in the future, please use 'weights' instead.\n",
      "\n",
      "  warnings.warn(\n",
      "\n",
      "C:\\Users\\Mojtaba\\Anaconda3\\lib\\site-packages\\torchvision\\models\\_utils.py:223: UserWarning: Arguments other than a weight enum or `None` for 'weights' are deprecated since 0.13 and may be removed in the future. The current behavior is equivalent to passing `weights=None`.\n",
      "\n",
      "  warnings.warn(msg)\n"
     ]
    }
   ],
   "source": [
    "model = resnet50(pretrained=False)"
   ]
  },
  {
   "cell_type": "markdown",
   "id": "43ab1c65-6037-4c91-9bd1-e17e0861080d",
   "metadata": {},
   "source": [
    "## Replace last fully-connected layer with new layer to match number of classes"
   ]
  },
  {
   "cell_type": "code",
   "execution_count": 11,
   "id": "2d266684-1395-4d74-83d2-9af08db3c5e8",
   "metadata": {},
   "outputs": [],
   "source": [
    "num_classes = 7\n",
    "in_features = model.fc.in_features\n",
    "model.fc = nn.Linear(in_features, num_classes)"
   ]
  },
  {
   "cell_type": "markdown",
   "id": "19b2306f-7388-4cbb-afb6-d5b4dc4a362b",
   "metadata": {},
   "source": [
    "## computing and train by GPU and move the model to the device"
   ]
  },
  {
   "cell_type": "code",
   "execution_count": 12,
   "id": "8966c0e5-22eb-4a03-be0e-4de1001cd8f8",
   "metadata": {},
   "outputs": [
    {
     "name": "stdout",
     "output_type": "stream",
     "text": [
      "cuda\n"
     ]
    }
   ],
   "source": [
    "device = torch.device('cuda' if torch.cuda.is_available() else 'cpu')\n",
    "print(device)"
   ]
  },
  {
   "cell_type": "code",
   "execution_count": 13,
   "id": "58bb291d-567c-4ee1-96ef-ff775e7f7f31",
   "metadata": {},
   "outputs": [],
   "source": [
    "model = model.to(device)"
   ]
  },
  {
   "cell_type": "markdown",
   "id": "8272523b-3056-4082-af6c-f0ba0a18eaa9",
   "metadata": {},
   "source": [
    "## Define the loss function and optimizer"
   ]
  },
  {
   "cell_type": "code",
   "execution_count": 14,
   "id": "669c588c-a49b-4ad6-b4b0-b5acbd623fb5",
   "metadata": {},
   "outputs": [],
   "source": [
    "criterion = torch.nn.CrossEntropyLoss()\n",
    "optimizer = torch.optim.Adam(model.parameters(), lr=0.0001)"
   ]
  },
  {
   "cell_type": "markdown",
   "id": "f7236103-b904-4554-9447-404c4b0049f9",
   "metadata": {},
   "source": [
    "## Train the model on the train set"
   ]
  },
  {
   "cell_type": "code",
   "execution_count": 16,
   "id": "95f231ac-b519-4eb6-bca9-c04f1d6ee458",
   "metadata": {
    "scrolled": true
   },
   "outputs": [
    {
     "name": "stdout",
     "output_type": "stream",
     "text": [
      "Epoch 1/1, Loss: 0.5114, Validation Accuracy: 95.24%\n"
     ]
    }
   ],
   "source": [
    "num_epochs = 4\n",
    "for epoch in range(num_epochs):\n",
    "    for images, labels in train_loader:\n",
    "        images, labels = images.to(device), labels.to(device)\n",
    "        optimizer.zero_grad()\n",
    "        outputs = model(images)\n",
    "        loss = criterion(outputs, labels)\n",
    "        loss.backward()\n",
    "        optimizer.step()\n",
    "\n",
    "    # Evaluate on validation set\n",
    "    with torch.no_grad():\n",
    "        correct = 0\n",
    "        total = 0\n",
    "        for images, labels in val_loader:\n",
    "            images, labels = images.to(device), labels.to(device)\n",
    "            outputs = model(images)\n",
    "            _, predicted = torch.max(outputs.data, 1)\n",
    "            total += labels.size(0)\n",
    "            correct += (predicted == labels).sum().item()\n",
    "        accuracy = 100 * correct / total\n",
    "\n",
    "    print(f'Epoch {epoch+1}/{num_epochs}, Loss: {loss:.4f}, Validation Accuracy: {accuracy:.2f}%')"
   ]
  },
  {
   "cell_type": "markdown",
   "id": "52653374-91fb-45fc-b900-c71a264f43ee",
   "metadata": {},
   "source": [
    "## Evaluate on test set"
   ]
  },
  {
   "cell_type": "code",
   "execution_count": 17,
   "id": "c2db69e7-dedc-4a49-9a16-881551f58cd3",
   "metadata": {},
   "outputs": [
    {
     "name": "stdout",
     "output_type": "stream",
     "text": [
      "Test Accuracy: 95.24%\n"
     ]
    }
   ],
   "source": [
    "with torch.no_grad():\n",
    "    correct = 0\n",
    "    total = 0\n",
    "    all_preds = []\n",
    "    all_targets = []\n",
    "    for images, labels in test_loader:\n",
    "        images, labels = images.to(device), labels.to(device)\n",
    "        outputs = model(images)\n",
    "        _, predicted = torch.max(outputs.data, 1)\n",
    "        total += labels.size(0)\n",
    "        correct += (predicted == labels).sum().item()\n",
    "        all_preds.extend(predicted.cpu().numpy())\n",
    "        all_targets.extend(labels.cpu().numpy())\n",
    "    accuracy = 100 * correct / total\n",
    "\n",
    "print(f'Test Accuracy: {accuracy:.2f}%')"
   ]
  },
  {
   "cell_type": "markdown",
   "id": "cc7393a9-a9eb-4b7e-9390-9bbab021bbef",
   "metadata": {},
   "source": [
    "## plotting the confusion matrix"
   ]
  },
  {
   "cell_type": "code",
   "execution_count": 18,
   "id": "8ef5ba64-d9c4-4847-a1e4-4241e9ec036a",
   "metadata": {},
   "outputs": [
    {
     "data": {
      "image/png": "[encoded data removed]",
      "text/plain": [
       "<Figure size 800x800 with 2 Axes>"
      ]
     },
     "metadata": {},
     "output_type": "display_data"
    }
   ],
   "source": [
    "from sklearn.metrics import confusion_matrix\n",
    "from sklearn.metrics import ConfusionMatrixDisplay\n",
    "import matplotlib.pyplot as plt\n",
    "\n",
    "class_names = dataset.classes\n",
    "cm = confusion_matrix(all_targets, all_preds)\n",
    "\n",
    "fig, ax = plt.subplots(figsize=(8, 8))\n",
    "disp = ConfusionMatrixDisplay(confusion_matrix=cm, display_labels=class_names)\n",
    "disp = disp.plot(ax=ax, cmap=plt.cm.PuBu, values_format='.0f')\n",
    "plt.title(\"Confusion Matrix\")\n",
    "plt.xlabel(\"Predicted Labels\")\n",
    "plt.ylabel(\"True Labels\")\n",
    "plt.show()"
   ]
  },
  {
   "cell_type": "markdown",
   "id": "4344ee69-408d-4f44-bf03-945243634534",
   "metadata": {},
   "source": [
    "## save model"
   ]
  },
  {
   "cell_type": "code",
   "execution_count": 19,
   "id": "73d17912-455d-4ad7-9fa7-e6da19acfb8e",
   "metadata": {},
   "outputs": [],
   "source": [
    "torch.save(model.state_dict(), 'my_model_4_7_2023.pt')"
   ]
  },
  {
   "cell_type": "markdown",
   "id": "a21cbaa9-7c92-4b2d-88b7-5cf524af4254",
   "metadata": {},
   "source": [
    "## Get a random sample of test images for visualize"
   ]
  },
  {
   "cell_type": "code",
   "execution_count": null,
   "id": "1cbf1dd6-d49b-4d6c-885f-9c5f6091da36",
   "metadata": {},
   "outputs": [],
   "source": [
    "data_iter = iter(test_loader)\n",
    "images, labels = data_iter.__next__()\n",
    "\n",
    "images = images.to(device) \n",
    "labels = labels.to(device)"
   ]
  },
  {
   "cell_type": "markdown",
   "id": "c3cf326c-ac6e-4128-bc75-3bfd350787e6",
   "metadata": {},
   "source": [
    "## Make predictions for the test images"
   ]
  },
  {
   "cell_type": "code",
   "execution_count": null,
   "id": "94fdeba6-4da1-4d03-b5e2-6d0ef6746078",
   "metadata": {},
   "outputs": [],
   "source": [
    "with torch.no_grad():\n",
    "    outputs = model(images)\n",
    "    _, predicted = torch.max(outputs, 1)"
   ]
  },
  {
   "cell_type": "code",
   "execution_count": null,
   "id": "86366235-55e8-4798-9811-73eb481ef554",
   "metadata": {},
   "outputs": [],
   "source": [
    "import os    \n",
    "os.environ['KMP_DUPLICATE_LIB_OK'] = 'True'"
   ]
  },
  {
   "cell_type": "markdown",
   "id": "5a4f64b2-9590-4ba6-be4d-ad057343c254",
   "metadata": {},
   "source": [
    "## Move the images and labels back to the CPU and convert them to NumPy arrays"
   ]
  },
  {
   "cell_type": "code",
   "execution_count": null,
   "id": "a897e115-aed5-4fa1-9653-abdb253d18cc",
   "metadata": {},
   "outputs": [],
   "source": [
    "images = images.cpu().numpy()\n",
    "labels = labels.cpu().numpy()"
   ]
  },
  {
   "cell_type": "markdown",
   "id": "72882ecf-0a2c-468b-9434-80a5158ec03e",
   "metadata": {},
   "source": [
    "## Visualize the test images and their predicted classes"
   ]
  },
  {
   "cell_type": "code",
   "execution_count": null,
   "id": "b2bf54d1-45dc-4655-a7b2-9fffe748de23",
   "metadata": {},
   "outputs": [],
   "source": [
    "fig, axs = plt.subplots(3, 3, figsize=(8, 8))\n",
    "for i, ax in enumerate(axs.flatten()):\n",
    "    image = images[i].transpose(1, 2, 0)\n",
    "    #image = (image * np.array((0.229, 0.224, 0.225))) + np.array((0.485, 0.456, 0.406))\n",
    "    image = np.clip(image, 0, 1)\n",
    "    ax.imshow(image)\n",
    "    ax.set_title(f'Predicted: {classes[predicted[i]]}\\nActual: {classes[labels[i]]}')\n",
    "    ax.axis('off')\n",
    "plt.subplots_adjust(\n",
    "                    wspace=0.1,\n",
    "                    hspace=0.4)\n",
    "plt.show()"
   ]
  },
  {
   "cell_type": "code",
   "execution_count": null,
   "id": "5ed95adf-195d-42a3-be81-618bec653ba3",
   "metadata": {},
   "outputs": [],
   "source": []
  },
  {
   "cell_type": "code",
   "execution_count": null,
   "id": "bbbd28b1-8625-4a7d-b195-698c382001f2",
   "metadata": {},
   "outputs": [],
   "source": []
  }
 ],
 "metadata": {
  "kaggle": {
   "accelerator": "none",
   "dataSources": [
    {
     "datasetId": 3525171,
     "sourceId": 6147158,
     "sourceType": "datasetVersion"
    }
   ],
   "dockerImageVersionId": 30528,
   "isGpuEnabled": false,
   "isInternetEnabled": true,
   "language": "python",
   "sourceType": "notebook"
  },
  "kernelspec": {
   "display_name": "Python 3 (ipykernel)",
   "language": "python",
   "name": "python3"
  },
  "language_info": {
   "codemirror_mode": {
    "name": "ipython",
    "version": 3
   },
   "file_extension": ".py",
   "mimetype": "text/x-python",
   "name": "python",
   "nbconvert_exporter": "python",
   "pygments_lexer": "ipython3",
   "version": "3.9.13"
  }
 },
 "nbformat": 4,
 "nbformat_minor": 5
}
